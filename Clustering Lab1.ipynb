{
 "cells": [
  {
   "cell_type": "markdown",
   "metadata": {},
   "source": [
    "# LAB1 : Clustering\n",
    "\n",
    "## Aurore GOSMANT"
   ]
  },
  {
   "cell_type": "markdown",
   "metadata": {},
   "source": [
    "### Question 1"
   ]
  },
  {
   "cell_type": "code",
   "execution_count": 155,
   "metadata": {},
   "outputs": [],
   "source": [
    "from sklearn.cluster import KMeans\n",
    "import numpy as np"
   ]
  },
  {
   "cell_type": "code",
   "execution_count": 156,
   "metadata": {},
   "outputs": [
    {
     "name": "stdout",
     "output_type": "stream",
     "text": [
      "[[ -4.7557      4.00509     3.58155    -0.395257    0.768624    1.12594\n",
      "   -0.237274   -1.91728     0.706794    0.957592   -0.0206825   6.34668\n",
      "   -2.82923     1.68118    -4.10586     4.63801     1.46898     2.74809\n",
      "   -0.0228676   1.87709    -0.70247     2.44804    -3.13752    -1.13863\n",
      "   -0.0651749]\n",
      " [ -3.2019      5.65488    -1.44928     0.693878    0.574788    1.50561\n",
      "   -1.42566     0.467675   -2.90853     0.0558659  -3.65062     0.99398\n",
      "   -2.76886    -1.29434    -3.80463     0.93633     0.122649    3.74037\n",
      "   -0.92452     4.33917     3.06093     4.88284    -0.0691085  -0.353045\n",
      "    1.15721  ]\n",
      " [ -0.55384     1.92791     0.529256    1.80451     2.05676    -0.869652\n",
      "   -3.18936     3.37173     3.67084    -4.0242     -0.9911     -0.853207\n",
      "   -1.21903    -6.0285     -3.45091     2.06707     1.0505      3.03001\n",
      "    1.43723     2.81148     3.47363    -0.512765    2.89227    -0.83293\n",
      "    0.903809 ]\n",
      " [  0.431862    3.48494    -1.72414    -1.84332     0.304692   -1.12285\n",
      "   -3.83964     0.0530786  -3.76193    -2.23312    -0.0669344 -15.4229\n",
      "   -5.73566     0.285551   -3.49608     1.2894      3.76249     0.35545\n",
      "   -1.18153    -0.346021    5.35117     2.54279    -0.480513   -3.70793\n",
      "   -2.35627  ]\n",
      " [  3.81916     1.97522     0.          1.99593     1.56522    -0.919448\n",
      "   -1.00992     2.8288     -0.357277   -2.21811     4.9697      3.72482\n",
      "   -1.0338     -3.17263    -5.43437     3.10559    -0.18018     3.00295\n",
      "   -0.645518    0.557621    4.74576    -0.579421   -1.60146    -3.69494\n",
      "   -2.38239  ]\n",
      " [ -2.73973     0.418535    1.1194      0.829346   -0.629111    1.65094\n",
      "    5.13709     0.782524   -1.65027     0.443599    0.610643   -1.66774\n",
      "   -0.821837    1.42857    -1.98333     1.39114    -0.126143    2.01711\n",
      "   -0.754243    1.55945     2.16181    -1.79471     3.22266     3.19432\n",
      "   -0.191022 ]\n",
      " [  3.20354     5.64811    -1.45461     3.26821     3.25765    -1.01104\n",
      "   -2.55408     2.22093     2.40764    -3.28757     3.64805     3.93495\n",
      "   -3.45137    -5.07571    -4.99013     0.858277   -3.45495     3.63705\n",
      "    0.311526    2.04864     3.59929    -0.688705   -2.72745    -4.0343\n",
      "   -1.49745  ]\n",
      " [ -4.5614     -0.324675   -2.60723    -0.372578    1.91805    -1.92837\n",
      "   -5.03704    -0.13541    -1.54278     1.41044    -0.661001    1.79187\n",
      "   -3.39893    -0.404531   -4.97051     7.62174     0.597015   -2.22399\n",
      "   -1.05116    -6.05634     4.23049     2.88809    -1.25174    -2.85016\n",
      "   -5.50398  ]\n",
      " [  2.15023     1.9153     -0.295223    2.75107    -0.217687    0.794777\n",
      "    0.264901    0.853759    0.279799   -0.774979    1.83876     0.247934\n",
      "   -1.06832    -2.73937    -3.46789    -2.98222    -2.10226    -1.83511\n",
      "    0.0554631   1.71849     1.87991    -0.36051    -0.745033   -0.0536481\n",
      "   -1.21538  ]\n",
      " [ -0.963597    1.40845    -1.88301    -0.701481    2.27179     1.97562\n",
      "   -3.13097    -0.514706   -2.70694    -1.72216     0.537857   -1.97842\n",
      "   -0.83682    -0.269854   -4.24679     0.35461     2.43615     1.67331\n",
      "   -2.77257     1.74742     0.          1.96078    -0.85885    -2.9845\n",
      "   -0.497159 ]\n",
      " [  2.43855     1.74769     0.206113    1.68998    -0.593472    0.\n",
      "    1.69481     0.401998   -3.27004     0.513614    0.836897   -0.140176\n",
      "   -0.958971   -1.8709     -2.01259     2.04082    -0.225033    2.21088\n",
      "   -0.326435    2.87998     3.02802     0.489097   -0.788653    0.908605\n",
      "    3.79122  ]\n",
      " [  0.658256   -1.22308     0.981194    0.266951    0.          3.19785\n",
      "    1.92256     2.69549    -2.49187    -0.322061    2.30388     1.84783\n",
      "   -3.06979    -1.20192    -4.28413     5.0644     -0.0533618   0.265252\n",
      "    0.188425    3.11381    -0.888769   -2.32955    -5.64885     0.216626\n",
      "    1.50125  ]\n",
      " [ -1.99294     1.79499     0.581677   -0.787219    0.899149   -1.52731\n",
      "   -0.574713    0.85668    -3.30675    -1.37836    -0.713342    6.39706\n",
      "   -1.73558    -0.943179   -6.01432     0.717765   -2.58922     3.17305\n",
      "    1.23199     3.64206     4.27766     4.531       0.280177   -4.15512\n",
      "    1.71487  ]\n",
      " [ -2.57967     2.88523     1.0501      1.6372     -0.898204    0.0618716\n",
      "    3.48275    -0.771605   -0.720839   -0.822581   -2.97628     1.2197\n",
      "   -1.00979     0.0459841  -1.35685     1.75466    -0.434293   -0.628239\n",
      "   -1.22611    -0.131234   -1.14996     0.170834   -1.39652     2.97243\n",
      "    0.39604  ]\n",
      " [  1.63831     0.354191   -4.35294     1.98482     3.25815    -3.72793\n",
      "   -8.52713    -0.632547    1.00313    -3.31725     3.81731     0.230814\n",
      "   -4.0201     -0.694847   -4.8416     -4.42849     2.87026     3.72861\n",
      "   -1.36823     4.33455     5.93325     3.79267    -1.76678    -0.34965\n",
      "   -2.47066  ]\n",
      " [  2.0447      8.32943    -0.428816   -3.5225     -3.09773    -1.11993\n",
      "   -1.59442     2.35784    -3.5334     -3.78054     0.0471921   0.0919963\n",
      "   -1.92661     0.999131   -3.20713     1.78658     1.1622      9.88223\n",
      "   -0.873563    2.36181     0.603248   -1.66587    -0.410023    1.21055\n",
      "   -0.998573 ]\n",
      " [ -2.52731    -1.68047   -10.4975     -3.39463     3.87858    -0.370054\n",
      "   -1.10538     0.454076    0.0242072  -2.72727     0.316183    1.94928\n",
      "   -2.05613     0.294913   -3.13841     3.09853     0.123001    2.57758\n",
      "   -1.04505     1.62485     4.44836     6.79773   -10.2796     -0.931601\n",
      "    2.36238  ]\n",
      " [  2.36505     2.57463    -0.575436   -0.344102   -0.364299   -0.1701\n",
      "    1.92234     0.217155   -1.58548     0.631458   -0.550285   -0.677724\n",
      "   -2.1166     -0.108932   -2.22303     2.16216     0.439686    0.941974\n",
      "    0.618357    1.19853    -0.744021   -0.2766     -3.82828     1.36438\n",
      "    1.12502  ]\n",
      " [  1.35474     1.53923    -1.15869     2.67542     0.621118    0.983069\n",
      "   -0.988142   -0.32543    -3.55711    -0.196078   -2.01745     2.6962\n",
      "   -2.08445    -3.33333    -4.36992     1.12843    -2.60492     0.91047\n",
      "   -2.7685      0.355691    2.13612    -0.3245     -0.287356   -0.400601\n",
      "    4.00421  ]\n",
      " [ -3.40829     1.46723     0.          5.51344     0.935484    1.61823\n",
      "   -0.325203    0.598592   -1.34181     1.82469    -0.717547    1.78763\n",
      "   -0.687398   -1.07595    -2.63659    -0.385424   -0.0975927   0.854701\n",
      "   -1.16814     0.278067    2.00584    -2.7965     -0.670904    0.673077\n",
      "   -0.770578 ]\n",
      " [ -2.70668     6.67656     0.          1.62876    -1.25443     1.02769\n",
      "    2.46437    -0.363967   -1.81538    -0.818182   -2.09691     0.394657\n",
      "   -0.70028    -0.137212   -1.56636    -8.13204     0.989802   -0.467836\n",
      "    2.67081     1.49579    -1.20156     2.92091    -1.70992     2.68624\n",
      "   -0.498973 ]\n",
      " [ -0.981997    5.11278    -0.71977    -0.195886    2.14739     0.896414\n",
      "   -0.0973236   1.96599     3.75321    -0.86558    -0.049776   -2.28334\n",
      "   -3.41018    -2.79092    -0.761905    0.658617   -0.437956   -2.60827\n",
      "    3.7467      0.147638    6.10225     3.61582    -0.105932    1.89966\n",
      "    0.0544959]\n",
      " [  1.45776     2.96552    -1.08524     1.87463    -0.0925819   1.98987\n",
      "   -1.82353    -0.0705302  -0.718355   -2.10767    -0.0355619   2.83645\n",
      "   -0.277342   -0.910807   -4.32184     1.03488    -0.992295    5.44794\n",
      "   -0.86145     2.73063     0.880196   -0.138906   -1.38396     0.112511\n",
      "    1.16044  ]\n",
      " [  0.177552    1.95851     1.68287     0.97782     3.00424    -1.225\n",
      "   -1.93136     3.04878    -1.00404    -4.33364    -2.37762    -0.754943\n",
      "   -1.42098    -6.14075    -2.52161     3.60708     2.0057      3.91048\n",
      "   -0.919995    2.13754     4.2042      2.53663     0.435448   -2.578\n",
      "    1.52976  ]\n",
      " [  1.21509     3.19635    -0.431862    1.04925    -0.356333   -2.02977\n",
      "   -0.0835422   3.53501    -0.701214   -0.641242   -1.54594     2.91347\n",
      "   -3.48818    -0.204531   -1.24294     2.84262    -0.417851    3.37154\n",
      "   -0.704698    0.924025    2.86687    -4.92066    -1.65016    -1.42338\n",
      "    0.695716 ]\n",
      " [ -1.48197     2.19485     0.372353    0.542299    0.919811   -1.18673\n",
      "   -4.48936     4.34783     0.704535    0.263043   -2.49383     4.06704\n",
      "   -0.121655   -1.95908    -3.86216     3.79015     1.56114     0.926135\n",
      "   -2.75582    -0.907519    0.405314    1.48837    -1.10169    -3.57542\n",
      "    0.599733 ]\n",
      " [ -1.3064      1.50356     2.34958     0.582396    0.110389    2.59853\n",
      "    1.61523     0.0788747  -4.08673     0.458235   -0.58309     2.71145\n",
      "   -0.297767    0.382653   -1.93596    -0.255892   -0.35382     0.0260112\n",
      "    2.03999     2.38095     0.338753   -3.54086    -1.98815     1.61087\n",
      "    0.482251 ]\n",
      " [ -1.04979    -0.721118    0.293686    3.09816    -1.59787     0.798771\n",
      "    1.13011     1.38213    -2.54896    -0.780772   -0.673092    1.43609\n",
      "   -0.183178   -1.26919    -2.10636     0.685805    0.0743826   0.458783\n",
      "    1.62069     3.31063     0.385109   -4.49302     1.49937     1.97427\n",
      "   -0.696092 ]\n",
      " [ -1.98408     3.514      -2.07243     0.768232    1.27858     0.702216\n",
      "   -0.822737    1.35194    -2.44491    -1.04774    -0.579742    4.11705\n",
      "    0.387254   -2.0291     -3.56194     2.80047     0.58265     2.15358\n",
      "    0.31556     2.21558     0.409417   -0.599424   -2.67443     0.745016\n",
      "    1.65073  ]\n",
      " [ -4.07609     3.25216    -1.08417     0.8647      2.42368    -0.0452352\n",
      "    1.71313     0.692042   -1.54648    -2.2917     -1.54358    -0.295664\n",
      "    0.333991   -0.986044   -1.81251     0.417402   -0.0672269   5.98842\n",
      "    1.88553     0.528379    1.13032    -0.0479004  -1.71391     2.31915\n",
      "    0.723356 ]]\n"
     ]
    }
   ],
   "source": [
    "def openFile(workfile):\n",
    "    workfile='C:/Users/Asus/Downloads/data.csv'\n",
    "    f = open(workfile,'r+')\n",
    "    L = []\n",
    "    for line in f : \n",
    "            L.append(line.split(\",\"))\n",
    "            \n",
    "\n",
    "    Label = []\n",
    "    dataSet = []\n",
    "\n",
    "    for k in range(1,len(L)):\n",
    "        Label.append(L[k][0])\n",
    "        dataSet.append([float(L[k][i]) for i in range(1, len(L[k]))])\n",
    "    dataSet = np.array(dataSet)\n",
    "    \n",
    "\n",
    "    return dataSet\n",
    "\n",
    "dataSet = openFile('C:/Users/Asus/Downloads/data.csv')\n",
    "print(dataSet)"
   ]
  },
  {
   "cell_type": "code",
   "execution_count": 157,
   "metadata": {},
   "outputs": [
    {
     "name": "stdout",
     "output_type": "stream",
     "text": [
      "[6 6 0 5 0 4 0 7 0 7 1 1 6 4 0 3 2 1 1 4 4 0 1 1 1 7 4 4 1 1]\n",
      "[[ 1.54590050e+00  2.82225183e+00 -1.04888117e+00  1.93477567e+00\n",
      "   2.01124717e+00 -8.06146500e-01 -2.51881877e+00  1.76811033e+00\n",
      "   1.79289033e+00 -2.41461483e+00  2.20549067e+00  8.33661833e-01\n",
      "  -2.36713333e+00 -3.41699617e+00 -3.82446750e+00 -1.20192667e-01\n",
      "  -3.75764333e-01  1.49254000e+00  5.89528517e-01  1.93640317e+00\n",
      "   4.28901500e+00  8.77848167e-01 -6.75730833e-01 -1.17763468e+00\n",
      "  -1.10126252e+00]\n",
      " [ 4.00758667e-01  2.16944556e+00 -3.93072333e-01  1.09143122e+00\n",
      "   6.57881344e-01  3.78099978e-01  1.78169867e-01  1.28293942e+00\n",
      "  -1.92438878e+00 -1.08833989e+00 -6.12155767e-01  1.39361033e+00\n",
      "  -1.41056311e+00 -1.86514600e+00 -2.92783444e+00  2.34425133e+00\n",
      "  -1.48072411e-01  2.80005956e+00 -2.85911778e-01  1.78712944e+00\n",
      "   1.44692811e+00 -6.23534822e-01 -1.94890567e+00  1.40478556e-01\n",
      "   1.79796689e+00]\n",
      " [-2.52731000e+00 -1.68047000e+00 -1.04975000e+01 -3.39463000e+00\n",
      "   3.87858000e+00 -3.70054000e-01 -1.10538000e+00  4.54076000e-01\n",
      "   2.42072000e-02 -2.72727000e+00  3.16183000e-01  1.94928000e+00\n",
      "  -2.05613000e+00  2.94913000e-01 -3.13841000e+00  3.09853000e+00\n",
      "   1.23001000e-01  2.57758000e+00 -1.04505000e+00  1.62485000e+00\n",
      "   4.44836000e+00  6.79773000e+00 -1.02796000e+01 -9.31601000e-01\n",
      "   2.36238000e+00]\n",
      " [ 2.04470000e+00  8.32943000e+00 -4.28816000e-01 -3.52250000e+00\n",
      "  -3.09773000e+00 -1.11993000e+00 -1.59442000e+00  2.35784000e+00\n",
      "  -3.53340000e+00 -3.78054000e+00  4.71921000e-02  9.19963000e-02\n",
      "  -1.92661000e+00  9.99131000e-01 -3.20713000e+00  1.78658000e+00\n",
      "   1.16220000e+00  9.88223000e+00 -8.73563000e-01  2.36181000e+00\n",
      "   6.03248000e-01 -1.66587000e+00 -4.10023000e-01  1.21055000e+00\n",
      "  -9.98573000e-01]\n",
      " [-2.29842667e+00  2.03833283e+00  8.02127667e-01  2.21488367e+00\n",
      "  -5.55623667e-01  1.29267210e+00  2.25072450e+00  2.84424783e-01\n",
      "  -2.02733150e+00  5.08315000e-02 -1.07271267e+00  9.80297833e-01\n",
      "  -6.16708333e-01 -1.04190817e-01 -1.93090833e+00 -8.23625167e-01\n",
      "   8.72265000e-03  3.76755033e-01  5.30499500e-01  1.48227550e+00\n",
      "   4.23332000e-01 -1.58889100e+00 -1.73910667e-01  2.18520117e+00\n",
      "  -2.13062333e-01]\n",
      " [ 4.31862000e-01  3.48494000e+00 -1.72414000e+00 -1.84332000e+00\n",
      "   3.04692000e-01 -1.12285000e+00 -3.83964000e+00  5.30786000e-02\n",
      "  -3.76193000e+00 -2.23312000e+00 -6.69344000e-02 -1.54229000e+01\n",
      "  -5.73566000e+00  2.85551000e-01 -3.49608000e+00  1.28940000e+00\n",
      "   3.76249000e+00  3.55450000e-01 -1.18153000e+00 -3.46021000e-01\n",
      "   5.35117000e+00  2.54279000e+00 -4.80513000e-01 -3.70793000e+00\n",
      "  -2.35627000e+00]\n",
      " [-3.31684667e+00  3.81832000e+00  9.04649000e-01 -1.62866000e-01\n",
      "   7.47520333e-01  3.68080000e-01 -7.45882333e-01 -1.97641667e-01\n",
      "  -1.83616200e+00 -1.21634033e-01 -1.46154817e+00  4.57924000e+00\n",
      "  -2.44455667e+00 -1.85446333e-01 -4.64160333e+00  2.09736833e+00\n",
      "  -3.32530333e-01  3.22050333e+00  9.48674667e-02  3.28610667e+00\n",
      "   2.21204000e+00  3.95396000e+00 -9.75483833e-01 -1.88226500e+00\n",
      "   9.35635033e-01]\n",
      " [-2.33565567e+00  1.09287500e+00 -1.37262900e+00 -1.77253333e-01\n",
      "   1.70321700e+00 -3.79826667e-01 -4.21912333e+00  1.23257133e+00\n",
      "  -1.18172833e+00 -1.62256667e-02 -8.72324667e-01  1.29349667e+00\n",
      "  -1.45246833e+00 -8.77821667e-01 -4.35982000e+00  3.92216667e+00\n",
      "   1.53143500e+00  1.25151667e-01 -2.19318333e+00 -1.73881300e+00\n",
      "   1.54526800e+00  2.11241333e+00 -1.07076000e+00 -3.13669333e+00\n",
      "  -1.80046867e+00]]\n"
     ]
    }
   ],
   "source": [
    "kmeans = KMeans(algorithm='auto', copy_x=True, init='random', max_iter=10000,\n",
    "       n_clusters=8, n_init=100, n_jobs=None, precompute_distances='auto',\n",
    "       random_state=None, tol=0.0001, verbose=0).fit(dataSet)\n",
    "\n",
    "\n",
    "print(kmeans.labels_)\n",
    "\n",
    "print(kmeans.cluster_centers_)\n"
   ]
  },
  {
   "cell_type": "code",
   "execution_count": 158,
   "metadata": {},
   "outputs": [
    {
     "name": "stdout",
     "output_type": "stream",
     "text": [
      "SSE= 1594.3635928109059\n"
     ]
    }
   ],
   "source": [
    "def dist_2(u,v):\n",
    "    dist = 0\n",
    "    n = len(u)\n",
    "    for k in range(n):\n",
    "        dist+= (u[k] - v[k])**2\n",
    "    return(dist)\n",
    "\n",
    "def searchVectors(numCluster, labelList):    #find the attributes that belong to cluster numCluster\n",
    "    x = []\n",
    "    for indexX in range(len(labelList)):\n",
    "        if (labelList[indexX] == numCluster):\n",
    "            x.append(indexX)\n",
    "    return x\n",
    "\n",
    "\n",
    "A = searchVectors(4,kmeans.labels_)\n",
    "\n",
    "\n",
    "def SSE(kmeans, dataSet, numClusters):\n",
    "    centroids = kmeans.cluster_centers_\n",
    "    clusters = kmeans.labels_\n",
    "\n",
    "    SSE = 0\n",
    "    for k in range(numClusters) :\n",
    "        xList = searchVectors(k, clusters)\n",
    "        sum = 0\n",
    "        for indexVector in xList:\n",
    "            sum+= dist_2(dataSet[indexVector],centroids[k])\n",
    "        SSE += sum\n",
    "    return SSE\n",
    "            \n",
    "kmeans = KMeans(algorithm='auto', copy_x=True, init='random', max_iter=10000,\n",
    "       n_clusters=8, n_init=100, n_jobs=None, precompute_distances='auto',\n",
    "       random_state=None, tol=0.0001, verbose=0).fit(dataSet)\n",
    "\n",
    "dataSet = openFile('C:/Users/Asus/Downloads/data.csv')      \n",
    "\n",
    "print(\"SSE=\",SSE(kmeans, dataSet, 8))"
   ]
  },
  {
   "cell_type": "markdown",
   "metadata": {},
   "source": [
    "### Question 2\n",
    "\n",
    "One of the first parameters that can influence the k-means algorithm, is the manner of choosing the initial centroids. As a matter of fact, I assume that if initial centroids are not chosen randomly, as by following k-means++ algorithm, the SSE will be reduced. We actually observe that the SSE dwindles by choosing this method, every time we change this attribute."
   ]
  },
  {
   "cell_type": "code",
   "execution_count": 159,
   "metadata": {},
   "outputs": [
    {
     "name": "stdout",
     "output_type": "stream",
     "text": [
      "SSE= 1530.359784036957\n"
     ]
    }
   ],
   "source": [
    "kmeans = KMeans(algorithm='auto', copy_x=True, init='k-means++', max_iter=10000,\n",
    "       n_clusters=8, n_init=100, n_jobs=None, precompute_distances='auto',\n",
    "       random_state=None, tol=0.0001, verbose=0).fit(dataSet)\n",
    "\n",
    "dataSet = openFile('C:/Users/Asus/Downloads/data.csv')      \n",
    "\n",
    "print(\"SSE=\",SSE(kmeans, dataSet, 8))"
   ]
  },
  {
   "cell_type": "raw",
   "metadata": {},
   "source": [
    "The other parameters that could be changed in order to reduce the SSE could be the number of iterations before settling the initial clusters n_init, but a modification of this number doesn't always entail any big difference in the SSE.\n",
    "\n",
    "We remark the same result with a modification of max_iter.\n"
   ]
  },
  {
   "cell_type": "code",
   "execution_count": 160,
   "metadata": {},
   "outputs": [
    {
     "name": "stdout",
     "output_type": "stream",
     "text": [
      "SSE= 1545.909085686824\n"
     ]
    }
   ],
   "source": [
    "kmeans = KMeans(algorithm='auto', copy_x=True, init='k-means++', max_iter=1000,\n",
    "       n_clusters=8, n_init=100, n_jobs=None, precompute_distances='auto',\n",
    "       random_state=None, tol=0.0001, verbose=0).fit(dataSet)\n",
    "\n",
    "dataSet = openFile('C:/Users/Asus/Downloads/data.csv')      \n",
    "\n",
    "print(\"SSE=\",SSE(kmeans, dataSet, 8))"
   ]
  },
  {
   "cell_type": "markdown",
   "metadata": {},
   "source": [
    "### Question 3 : Labelling Clusters : \n",
    "\n",
    "I am going to create a new list, to which each name of corporate will be associated to its activity dominion.\n",
    "Then, once the kmeans algorithm will have run, it will count the occurencies of activities of each firm that is part of the cluster, and attribute the majority of it to the cluster label"
   ]
  },
  {
   "cell_type": "code",
   "execution_count": 161,
   "metadata": {},
   "outputs": [
    {
     "name": "stdout",
     "output_type": "stream",
     "text": [
      "['American Express', 'Boeing', 'Chevron', 'Cisco Systems', 'DuPont', 'Kraft', 'Caterpillar', 'Bank of America', 'Verizon', 'Microsoft', 'IBM', 'The Home Depot', 'Walt Disney', 'Procter & Gamble', 'Alcoa', 'Intel', 'Hewlett-Packard', 'Wal-Mart', 'General Electric', 'AT&T', 'Merck', 'Pfizer', 'United Technologies', 'ExxonMobil', 'Travelers', 'JPMorgan Chase', 'McDonalds', 'Coca-Cola', '3M', 'Johnson & Johnson']\n"
     ]
    }
   ],
   "source": [
    "def readFile(workfile):\n",
    "    workfile='C:/Users/Asus/Downloads/data.csv'\n",
    "    f = open(workfile,'r+')\n",
    "    L = []\n",
    "    for line in f : \n",
    "            L.append(line.split(\",\"))\n",
    "            \n",
    "    Label = []\n",
    "\n",
    "    for k in range(1,len(L)):\n",
    "        Label.append(L[k][0])\n",
    "\n",
    "    return Label\n",
    "\n",
    "print(readFile('C:/Users/Asus/Downloads/data.csv'))"
   ]
  },
  {
   "cell_type": "code",
   "execution_count": 162,
   "metadata": {},
   "outputs": [
    {
     "name": "stdout",
     "output_type": "stream",
     "text": [
      "['Banks and Assurances', 'Industry', 'Energy', 'Telecommunications', 'Energy', 'Agro-alimentary', 'Industry', 'Banks and Assurances', 'Telecommunications', 'Informatics', 'Informatics', 'Industry', 'Leisure', 'Distribution', 'Industry', 'Industry', 'Informatics', 'Distribution', 'Energy', 'Telecommunications', 'Pharmaceutics', 'Pharmaceutics', 'Industry', 'Energy', 'Banks and Assurances', 'Banks and Assurances', 'Agro-alimentary', 'Agro-alimentary', 'Industry', 'Pharmaceutics']\n"
     ]
    }
   ],
   "source": [
    "def findIndex(listFirms, givenFirm):\n",
    "    for firm in listFirms: \n",
    "        if (firm==givenFirm): \n",
    "            return listFirms.index(firm);\n",
    "        \n",
    "\n",
    "def activityToFirm(givenFirms, L, a = \"activity\"):\n",
    "    workfile='C:/Users/Asus/Downloads/data.csv'\n",
    "    listFirms = readFile(workfile)\n",
    "    \n",
    "    for firm in givenFirms : \n",
    "        index = findIndex(listFirms, firm)\n",
    "        L[index]=a\n",
    "    return L\n",
    "\n",
    "workfile='C:/Users/Asus/Downloads/data.csv'\n",
    "listFirms = readFile(workfile)\n",
    "L = [\"\" for x in range(len(listFirms))]\n",
    "\n",
    "\n",
    "\n",
    "L = activityToFirm(['American Express','Bank of America','JPMorgan Chase','Travelers'],L,\"Banks and Assurances\")\n",
    "L = activityToFirm(['Boeing','Caterpillar','The Home Depot','Alcoa','Intel','United Technologies','3M'],L,\"Industry\")\n",
    "L = activityToFirm(['Chevron','DuPont','General Electric','ExxonMobil'],L,\"Energy\")\n",
    "L = activityToFirm(['Cisco Systems','Verizon','AT&T'],L,\"Telecommunications\")\n",
    "L = activityToFirm(['Kraft','McDonalds','Coca-Cola'],L,\"Agro-alimentary\")\n",
    "L = activityToFirm(['Microsoft','IBM','Hewlett-Packard'],L,\"Informatics\")\n",
    "L = activityToFirm(['Walt Disney'],L,\"Leisure\")\n",
    "L = activityToFirm(['Merck','Johnson & Johnson','Pfizer'],L,\"Pharmaceutics\")\n",
    "listFirmsActivities = activityToFirm(['Procter & Gamble','Wal-Mart'],L,\"Distribution\")\n",
    "print(listFirmsActivities)"
   ]
  },
  {
   "cell_type": "code",
   "execution_count": 163,
   "metadata": {},
   "outputs": [
    {
     "name": "stdout",
     "output_type": "stream",
     "text": [
      "[['Banks and Assurances', 0], ['Industry', 0], ['Energy', 0], ['Telecommunication', 0], ['Agro-alimentary', 0], ['Informatics', 0], ['Leisure', 0], ['Pharmaceutics', 0], ['Distribution', 0]]\n",
      "[['Banks and Assurances', 0], ['Industry', 1], ['Energy', 0], ['Telecommunication', 0], ['Agro-alimentary', 0], ['Informatics', 0], ['Leisure', 0], ['Pharmaceutics', 0], ['Distribution', 0]]\n"
     ]
    }
   ],
   "source": [
    "Activities = [\"Banks and Assurances\", \"Industry\", \"Energy\", \"Telecommunication\",\"Agro-alimentary\",\"Informatics\",\"Leisure\",\"Pharmaceutics\",\"Distribution\"]\n",
    "\n",
    "def createCounterActivities(Activities):\n",
    "    M = []\n",
    "    for activity in Activities : \n",
    "        M.append([activity,0])\n",
    "    return M\n",
    "M = createCounterActivities(Activities)\n",
    "print(M)\n",
    "\n",
    "def incrementCounterActivity(counterActivities, a = \"string\"):\n",
    "    for k in range(len(counterActivities)) : \n",
    "        if (counterActivities[k][0]==a):\n",
    "            counterActivities[k][1]+=1;\n",
    "    return counterActivities\n",
    "\n",
    "M = (incrementCounterActivity(M,\"Industry\"))\n",
    "print(M)\n",
    "    \n",
    "    "
   ]
  },
  {
   "cell_type": "code",
   "execution_count": 164,
   "metadata": {},
   "outputs": [
    {
     "name": "stdout",
     "output_type": "stream",
     "text": [
      "Industry\n"
     ]
    }
   ],
   "source": [
    "def findClusterActivity(list):\n",
    "    max = 0\n",
    "    for k in range(len(list)):\n",
    "        if list[k][1]>max :\n",
    "            max = k\n",
    "    return (list[max][0])\n",
    "\n",
    "N = findClusterActivity(M)\n",
    "print(N)\n",
    "            \n",
    "\n",
    "def clusterActivity(numCluster, labelList, listFirmsActivities, Activities) :\n",
    "    clusters = searchVectors(numCluster, labelList)\n",
    "    M = createCounterActivities(Activities)\n",
    "    for k in clusters : \n",
    "        activity = listFirmsActivities[k]\n",
    "        M = incrementCounterActivity(M, activity)\n",
    "    labelCluster = findClusterActivity(M)\n",
    "    return labelCluster\n"
   ]
  },
  {
   "cell_type": "code",
   "execution_count": 165,
   "metadata": {},
   "outputs": [
    {
     "name": "stdout",
     "output_type": "stream",
     "text": [
      "[5 5 0 2 6 1 6 7 1 5 5 5 5 1 6 4 3 1 5 1 1 0 5 0 5 5 1 1 5 4]\n",
      "Agro-alimentary\n"
     ]
    }
   ],
   "source": [
    "print(kmeans.labels_)\n",
    "P = clusterActivity(1, kmeans.labels_, listFirmsActivities, Activities)\n",
    "print(P)   "
   ]
  },
  {
   "cell_type": "code",
   "execution_count": 166,
   "metadata": {},
   "outputs": [
    {
     "name": "stdout",
     "output_type": "stream",
     "text": [
      "['Cluster of Energy', 'Cluster of Agro-alimentary', 'Cluster of Banks and Assurances', 'Cluster of Informatics', 'Cluster of Industry', 'Cluster of Informatics', 'Cluster of Industry', 'Cluster of Banks and Assurances']\n"
     ]
    }
   ],
   "source": [
    "def labelClusters(labelList,listFirmsActivities,Activities):\n",
    "    labelledClusters = []\n",
    "    for numCluster in range(8):\n",
    "        activity = clusterActivity(numCluster, labelList,listFirmsActivities,Activities)\n",
    "        str = \"Cluster of \"+activity\n",
    "        labelledClusters.append(str)\n",
    "    return labelledClusters\n",
    "\n",
    "Q = labelClusters(kmeans.labels_, listFirmsActivities, Activities)\n",
    "print(Q)"
   ]
  },
  {
   "cell_type": "markdown",
   "metadata": {},
   "source": [
    "The list we obtain is the tendency of the firms that belong to the cluster. The more firms belonging to the activity are in the cluster, the more the cluster will be named in the name of this activity. First cluster has more firms that are in the sector of \"banks and assurances firms\", than ones belonging to other sectors."
   ]
  },
  {
   "cell_type": "code",
   "execution_count": null,
   "metadata": {},
   "outputs": [],
   "source": []
  },
  {
   "cell_type": "code",
   "execution_count": null,
   "metadata": {},
   "outputs": [],
   "source": []
  },
  {
   "cell_type": "code",
   "execution_count": null,
   "metadata": {},
   "outputs": [],
   "source": []
  }
 ],
 "metadata": {
  "kernelspec": {
   "display_name": "Python 3",
   "language": "python",
   "name": "python3"
  },
  "language_info": {
   "codemirror_mode": {
    "name": "ipython",
    "version": 3
   },
   "file_extension": ".py",
   "mimetype": "text/x-python",
   "name": "python",
   "nbconvert_exporter": "python",
   "pygments_lexer": "ipython3",
   "version": "3.7.3"
  }
 },
 "nbformat": 4,
 "nbformat_minor": 2
}

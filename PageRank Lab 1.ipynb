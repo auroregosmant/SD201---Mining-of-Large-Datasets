{
 "cells": [
  {
   "cell_type": "markdown",
   "metadata": {},
   "source": [
    "# Exercise on Python and Page Rank\n",
    "\n",
    "## Aurore GOSMANT"
   ]
  },
  {
   "cell_type": "code",
   "execution_count": 5,
   "metadata": {},
   "outputs": [],
   "source": [
    "import numpy as np\n",
    "import matplotlib.pyplot as plt\n",
    "import random"
   ]
  },
  {
   "cell_type": "markdown",
   "metadata": {},
   "source": [
    "# Part I : Practicing with Python"
   ]
  },
  {
   "cell_type": "code",
   "execution_count": 6,
   "metadata": {},
   "outputs": [],
   "source": [
    "def L():\n",
    "    size=np.random.randint(20)\n",
    "    L=np.zeros(size)\n",
    "    for i in range(size):\n",
    "        L[i]=np.random.randint(10)\n",
    "    return L\n"
   ]
  },
  {
   "cell_type": "code",
   "execution_count": 7,
   "metadata": {},
   "outputs": [],
   "source": [
    "def Lsquares():\n",
    "    list = L()\n",
    "    squares = [x**2 for x in list]\n",
    "    print(list)\n",
    "    return squares"
   ]
  },
  {
   "cell_type": "code",
   "execution_count": 8,
   "metadata": {},
   "outputs": [],
   "source": [
    "def f(L):\n",
    "    listEvent = [x for x in L if x%2==0]\n",
    "    return listEvent\n",
    "\n",
    "def fromFile(workfile):\n",
    "    f = open('workfile','r')\n",
    "    L = []\n",
    "    for line in f :\n",
    "        integers = [int(x) for x in line]\n",
    "        L.append(integers)\n",
    "    f.close()\n",
    "    return (f(L))"
   ]
  },
  {
   "cell_type": "markdown",
   "metadata": {},
   "source": [
    "# Part II : Implementing PageRank in Python\n",
    "\n",
    "### Question 1"
   ]
  },
  {
   "cell_type": "code",
   "execution_count": 1,
   "metadata": {},
   "outputs": [
    {
     "name": "stdout",
     "output_type": "stream",
     "text": [
      "graph =  [[1, 2], [1, 5], [2, 3], [3, 4], [4, 1], [5, 6], [6, 1]]\n"
     ]
    }
   ],
   "source": [
    "workfile ='C:/Users/agos6/Desktop/Aurore/SD/GOSMANT Aurore/Lab1- PageRank/TP1.txt'\n",
    "def graph(workfile):\n",
    "    f = open(workfile,'r+')\n",
    "    L = []\n",
    "    for line in f :\n",
    "            i,j = line.split(\" \")\n",
    "            L.append([int(i), int(j)])\n",
    "    return L\n",
    "\n",
    "print(\"graph = \",graph(workfile))"
   ]
  },
  {
   "cell_type": "code",
   "execution_count": 2,
   "metadata": {},
   "outputs": [
    {
     "name": "stdout",
     "output_type": "stream",
     "text": [
      "Sparse Graph =  [[2, 5], [3], [4], [1], [6], [1]]\n"
     ]
    }
   ],
   "source": [
    "def maxList(L):  # get the number of nodes in the graph\n",
    "    size = len(L)\n",
    "    maximum = L[0][0]\n",
    "    for k in range(size):\n",
    "        maxk = max(L[k])\n",
    "        if (maxk>maximum):\n",
    "            maximum = maxk\n",
    "    return maximum\n",
    "\n",
    "\n",
    "def sparseGraph(L, numNodes): #enables to count the number of edges that get out of a node\n",
    "    node = []\n",
    "    for i in range(numNodes):\n",
    "        list=[]\n",
    "        for k in range(len(L)):\n",
    "            if(L[k][0]==i+1):\n",
    "                list.append(L[k][1])\n",
    "        node.append(list)\n",
    "    return node\n",
    "\n",
    "\n",
    "L = graph(workfile)\n",
    "numNodes = maxList(L)\n",
    "sparsGraph = sparseGraph(L,numNodes)\n",
    "print(\"Sparse Graph = \",sparsGraph)"
   ]
  },
  {
   "cell_type": "code",
   "execution_count": 3,
   "metadata": {},
   "outputs": [
    {
     "name": "stdout",
     "output_type": "stream",
     "text": [
      "[[[4], [6]], [[1]], [[2]], [[3]], [[1]], [[5]]]\n"
     ]
    }
   ],
   "source": [
    "def getIndices(number, list):  \n",
    "    L=[]\n",
    "    for j in range(len(list)):\n",
    "        for node in list[j]:\n",
    "            if (node == number):\n",
    "                L.append([j+1])\n",
    "    return L\n",
    "\n",
    "def sparseMatrix(graphSparse):\n",
    "    numberNodes = len(graphSparse)\n",
    "    matrix = []\n",
    "    for k in range(numberNodes):\n",
    "        l=getIndices(k+1, graphSparse)\n",
    "        matrix.append(l)\n",
    "    return matrix\n",
    "\n",
    "Matrix = sparseMatrix(sparsGraph)\n",
    "print(Matrix)"
   ]
  },
  {
   "cell_type": "code",
   "execution_count": 4,
   "metadata": {},
   "outputs": [
    {
     "name": "stdout",
     "output_type": "stream",
     "text": [
      "Mg =  [[[4, 1.0], [6, 1.0]], [[1, 0.5]], [[2, 1.0]], [[3, 1.0]], [[1, 0.5]], [[5, 1.0]]]\n"
     ]
    }
   ],
   "source": [
    "def prob(sparseMatrix, sparseGraph): #works out the probability that a node points the node of identified by its index\n",
    "    size = len(sparseGraph)\n",
    "    for k in range(size):\n",
    "        if (len(sparseGraph[k])>0):\n",
    "            addProb(sparseMatrix,k+1,1/len(sparseGraph[k]))\n",
    "        else :\n",
    "            addProb(sparseMatrix,k+1,0)\n",
    "    return sparseMatrix\n",
    "\n",
    "def addProb(sparseMatrix, node, prob):\n",
    "    size = len(sparseMatrix)\n",
    "    for k in range(size):\n",
    "        for j in range(len(sparseMatrix[k])):\n",
    "            if (sparseMatrix[k][j][0]==node):\n",
    "                sparseMatrix[k][j].append(prob)\n",
    "    return sparseMatrix\n",
    "\n",
    "Mg = prob(Matrix, sparsGraph)\n",
    "print (\"Mg = \",Mg)"
   ]
  },
  {
   "cell_type": "code",
   "execution_count": 5,
   "metadata": {},
   "outputs": [],
   "source": [
    "def initialiseR(N, size):\n",
    "    return([1/N for x in range(size)])"
   ]
  },
  {
   "cell_type": "code",
   "execution_count": 6,
   "metadata": {},
   "outputs": [],
   "source": [
    "def sparseMultiplication(sparseMatrix, oldR):\n",
    "    newR = []\n",
    "    size = len(oldR)\n",
    "    for k in range(len(oldR)):\n",
    "        rk = 0\n",
    "        for j in range(len(sparseMatrix[k])):\n",
    "            node = sparseMatrix[k][j]\n",
    "            rk += oldR[node[0]-1]*node[1] ## Mij*rj\n",
    "        newR.append(rk)\n",
    "    return newR"
   ]
  },
  {
   "cell_type": "code",
   "execution_count": 7,
   "metadata": {},
   "outputs": [],
   "source": [
    "def diff(vect1, vect2):\n",
    "    difference = []\n",
    "    for k in range(len(vect1)):\n",
    "        difference.append(vect1[k]-vect2[k])\n",
    "    return difference\n",
    "\n",
    "def norm(vect):\n",
    "    count = 0\n",
    "    for k in range(len(vect)):\n",
    "        count += abs(vect[k])\n",
    "    return(count)"
   ]
  },
  {
   "cell_type": "code",
   "execution_count": 8,
   "metadata": {},
   "outputs": [],
   "source": [
    "def toString(list):\n",
    "    stationaryList = [str(node) for node in list]\n",
    "    res = str(\" \".join(stationaryList))\n",
    "    return res\n",
    "\n",
    "        \n",
    "def pageRank(workfile, eps, beta):\n",
    "    L = graph(workfile)\n",
    "    maximum = maxList(L)\n",
    "    sparsGraph = sparseGraph(L,maximum)\n",
    "    Matrix = sparseMatrix(sparsGraph)\n",
    "    Mg = prob(Matrix, sparsGraph)\n",
    "    \n",
    "    Rk = initialiseR(len(Mg), len(Mg))\n",
    "    constant = (1-beta)/len(Mg)\n",
    "    R = sparseMultiplication(Mg, Rk)\n",
    "    Rk1 = [beta*x + constant for x in R]\n",
    "\n",
    "    while (norm(diff(Rk1,Rk))>eps):\n",
    "        Rk = Rk1\n",
    "        R = sparseMultiplication(Mg, Rk)\n",
    "        Rk1 = [beta*x + constant for x in R]\n",
    "        L = [round(y,2) for y in Rk1 ]\n",
    "        \n",
    "    somme = 0\n",
    "    for k in range(len(L)):\n",
    "        somme += float(L[k]) \n",
    "        \n",
    "    print('sum of probabilities=',somme)\n",
    "    \n",
    "    return(toString(L))"
   ]
  },
  {
   "cell_type": "code",
   "execution_count": 9,
   "metadata": {},
   "outputs": [
    {
     "name": "stdout",
     "output_type": "stream",
     "text": [
      "sum of probabilities= 1.02\n"
     ]
    },
    {
     "data": {
      "text/plain": [
       "'0.27 0.14 0.16 0.15 0.14 0.16'"
      ]
     },
     "execution_count": 9,
     "metadata": {},
     "output_type": "execute_result"
    }
   ],
   "source": [
    "pageRank('C:/Users/agos6/Desktop/Aurore/SD/GOSMANT Aurore/Lab1- PageRank/TP1.txt', 0.1, 1)"
   ]
  },
  {
   "cell_type": "code",
   "execution_count": 10,
   "metadata": {},
   "outputs": [
    {
     "name": "stdout",
     "output_type": "stream",
     "text": [
      "sum of probabilities= 1.02\n"
     ]
    },
    {
     "data": {
      "text/plain": [
       "'0.26 0.14 0.16 0.16 0.14 0.16'"
      ]
     },
     "execution_count": 10,
     "metadata": {},
     "output_type": "execute_result"
    }
   ],
   "source": [
    "pageRank('C:/Users/agos6/Desktop/Aurore/SD/GOSMANT Aurore/Lab1- PageRank/TP1.txt',0.1, 0.8)"
   ]
  },
  {
   "cell_type": "code",
   "execution_count": 12,
   "metadata": {},
   "outputs": [
    {
     "name": "stdout",
     "output_type": "stream",
     "text": [
      "['Computer_science.html', 'C_(programming_language).html', 'Comparison_of_programming_languages.html', 'Imperative_programming.html', 'Instruction_set.html', 'Low-level_programming_language.html', 'Binary_file.html', 'Fortran.html', 'C++.html', 'Unix.html', 'Subroutine.html', 'Scripting_language.html', 'Object-oriented_programming.html', 'COBOL.html', 'Porting.html', 'Programming_language.html', 'Virtual_machine.html', 'Object_(computer_science).html', 'Source_code.html', 'Lisp_(programming_language).html', 'Python_(programming_language).html', 'Compiler.html', 'High-level_programming_language.html', 'Logic_programming.html', 'Operating_system.html', 'Java_(programming_language).html', 'Computer.html', 'Dynamic_programming_language.html', 'List_of_programming_languages.html', 'JavaScript.html', 'Software_portability.html', 'Assembly_language.html']\n"
     ]
    }
   ],
   "source": [
    "import os \n",
    "import re \n",
    "\n",
    "filesInDirectory = [str(x) for x in os.listdir('C:/Users/agos6/Desktop/Aurore/SD/GOSMANT Aurore/Lab1- PageRank/toyset')]\n",
    "\n",
    "\n",
    "def findLinks(webPage) : \n",
    "    f = open('C:/Users/agos6/Desktop/Aurore/SD/GOSMANT Aurore/Lab1- PageRank/toyset/'+filesInDirectory[webPage],encoding=\"utf8\")\n",
    "    L = []\n",
    "    for line in f :\n",
    "        list = re.findall(r'(?<=<a href=\")[^\"]*',line )\n",
    "        if (len(list)>0):\n",
    "            for link in list : \n",
    "                L.append(link)\n",
    "    List = [k for k in set(L)] #delete the duplicates and creates a list of links\n",
    "    return List\n",
    "\n",
    "result=findLinks(0)\n",
    "print(result)"
   ]
  },
  {
   "cell_type": "code",
   "execution_count": 13,
   "metadata": {},
   "outputs": [
    {
     "name": "stdout",
     "output_type": "stream",
     "text": [
      "Assembly_language.html\n",
      "1\n"
     ]
    }
   ],
   "source": [
    "def findIndex(webPage, list):\n",
    "    for k in range(len(list)): \n",
    "        if(webPage == list[k]):\n",
    "            return k+1 #page rank algorithm numerotation of nodes starts from 1\n",
    "        \n",
    "print(result[-1])\n",
    "print(findIndex(result[-1],filesInDirectory))"
   ]
  },
  {
   "cell_type": "code",
   "execution_count": 14,
   "metadata": {},
   "outputs": [
    {
     "name": "stdout",
     "output_type": "stream",
     "text": [
      "[2, 27]\n"
     ]
    }
   ],
   "source": [
    "def createLink(currentPage, webPage, list):\n",
    "    currentIndex = findIndex(currentPage,list)\n",
    "    webPageIndex = findIndex(webPage, list)\n",
    "    L = [currentIndex, webPageIndex]\n",
    "    return L\n",
    "\n",
    "print(createLink('Binary_file.html','JavaScript.html',filesInDirectory))\n",
    "    "
   ]
  },
  {
   "cell_type": "code",
   "execution_count": 15,
   "metadata": {},
   "outputs": [],
   "source": [
    "def WebPageRank(eps, beta):\n",
    "    filesInDirectory = [str(x) for x in os.listdir('C:/Users/Asus/Downloads/WebPages/toyset')]\n",
    "    \n",
    "    graph = []\n",
    "    for currentPage in range(len(filesInDirectory)): \n",
    "        listLinks = findLinks(currentPage)# finds all the links between the current page to another webPage\n",
    "        if (len(listLinks)>0):\n",
    "            for webPage in listLinks : \n",
    "                link = createLink(filesInDirectory[currentPage], webPage,filesInDirectory) #creates a link between two pages\n",
    "                graph.append(link)        \n",
    "    \n",
    "    print(graph)\n",
    "    maximum = maxList(graph)\n",
    "    sparsGraph = sparseGraph(graph,maximum)\n",
    "    Matrix = sparseMatrix(sparsGraph)\n",
    "    Mg = prob(Matrix, sparsGraph)\n",
    "    print(Mg)\n",
    "    \n",
    "    Rk = initialiseR(len(Mg), len(Mg))\n",
    "    constant = (1-beta)/len(Mg)\n",
    "    R = sparseMultiplication(Mg, Rk)\n",
    "    Rk1 = [beta*x + constant for x in R]\n",
    "\n",
    "    while (norm(diff(Rk1,Rk))>eps):\n",
    "        Rk = Rk1\n",
    "        R = sparseMultiplication(Mg, Rk)\n",
    "        Rk1 = [beta*x + constant for x in R]\n",
    "        L = [round(y,2) for y in Rk1 ]\n",
    "        \n",
    "    somme = 0\n",
    "    for k in range(len(L)):\n",
    "        somme += float(L[k]) \n",
    "    \n",
    "        \n",
    "    print('sum of probabilities=',somme)\n",
    "    print(len(L))\n",
    "    \n",
    "    return(toString(L))"
   ]
  },
  {
   "cell_type": "code",
   "execution_count": 43,
   "metadata": {},
   "outputs": [
    {
     "ename": "FileNotFoundError",
     "evalue": "[WinError 3] Le chemin d’accès spécifié est introuvable: 'C:/Users/Asus/Downloads/WebPages/toyset'",
     "output_type": "error",
     "traceback": [
      "\u001b[1;31m---------------------------------------------------------------------------\u001b[0m",
      "\u001b[1;31mFileNotFoundError\u001b[0m                         Traceback (most recent call last)",
      "\u001b[1;32m<ipython-input-43-f9679a61a5fe>\u001b[0m in \u001b[0;36m<module>\u001b[1;34m\u001b[0m\n\u001b[1;32m----> 1\u001b[1;33m \u001b[0mWebPageRank\u001b[0m\u001b[1;33m(\u001b[0m\u001b[1;36m0.1\u001b[0m\u001b[1;33m,\u001b[0m \u001b[1;36m1\u001b[0m\u001b[1;33m)\u001b[0m\u001b[1;33m\u001b[0m\u001b[1;33m\u001b[0m\u001b[0m\n\u001b[0m",
      "\u001b[1;32m<ipython-input-42-17a66e8ee534>\u001b[0m in \u001b[0;36mWebPageRank\u001b[1;34m(eps, beta)\u001b[0m\n\u001b[0;32m      1\u001b[0m \u001b[1;32mdef\u001b[0m \u001b[0mWebPageRank\u001b[0m\u001b[1;33m(\u001b[0m\u001b[0meps\u001b[0m\u001b[1;33m,\u001b[0m \u001b[0mbeta\u001b[0m\u001b[1;33m)\u001b[0m\u001b[1;33m:\u001b[0m\u001b[1;33m\u001b[0m\u001b[1;33m\u001b[0m\u001b[0m\n\u001b[1;32m----> 2\u001b[1;33m     \u001b[0mfilesInDirectory\u001b[0m \u001b[1;33m=\u001b[0m \u001b[1;33m[\u001b[0m\u001b[0mstr\u001b[0m\u001b[1;33m(\u001b[0m\u001b[0mx\u001b[0m\u001b[1;33m)\u001b[0m \u001b[1;32mfor\u001b[0m \u001b[0mx\u001b[0m \u001b[1;32min\u001b[0m \u001b[0mos\u001b[0m\u001b[1;33m.\u001b[0m\u001b[0mlistdir\u001b[0m\u001b[1;33m(\u001b[0m\u001b[1;34m'C:/Users/Asus/Downloads/WebPages/toyset'\u001b[0m\u001b[1;33m)\u001b[0m\u001b[1;33m]\u001b[0m\u001b[1;33m\u001b[0m\u001b[1;33m\u001b[0m\u001b[0m\n\u001b[0m\u001b[0;32m      3\u001b[0m \u001b[1;33m\u001b[0m\u001b[0m\n\u001b[0;32m      4\u001b[0m     \u001b[0mgraph\u001b[0m \u001b[1;33m=\u001b[0m \u001b[1;33m[\u001b[0m\u001b[1;33m]\u001b[0m\u001b[1;33m\u001b[0m\u001b[1;33m\u001b[0m\u001b[0m\n\u001b[0;32m      5\u001b[0m     \u001b[1;32mfor\u001b[0m \u001b[0mcurrentPage\u001b[0m \u001b[1;32min\u001b[0m \u001b[0mrange\u001b[0m\u001b[1;33m(\u001b[0m\u001b[0mlen\u001b[0m\u001b[1;33m(\u001b[0m\u001b[0mfilesInDirectory\u001b[0m\u001b[1;33m)\u001b[0m\u001b[1;33m)\u001b[0m\u001b[1;33m:\u001b[0m\u001b[1;33m\u001b[0m\u001b[1;33m\u001b[0m\u001b[0m\n",
      "\u001b[1;31mFileNotFoundError\u001b[0m: [WinError 3] Le chemin d’accès spécifié est introuvable: 'C:/Users/Asus/Downloads/WebPages/toyset'"
     ]
    }
   ],
   "source": [
    "WebPageRank(0.1, 1)"
   ]
  },
  {
   "cell_type": "code",
   "execution_count": null,
   "metadata": {},
   "outputs": [],
   "source": []
  },
  {
   "cell_type": "code",
   "execution_count": null,
   "metadata": {},
   "outputs": [],
   "source": []
  },
  {
   "cell_type": "code",
   "execution_count": null,
   "metadata": {},
   "outputs": [],
   "source": []
  },
  {
   "cell_type": "code",
   "execution_count": null,
   "metadata": {},
   "outputs": [],
   "source": []
  }
 ],
 "metadata": {
  "kernelspec": {
   "display_name": "Python 3",
   "language": "python",
   "name": "python3"
  },
  "language_info": {
   "codemirror_mode": {
    "name": "ipython",
    "version": 3
   },
   "file_extension": ".py",
   "mimetype": "text/x-python",
   "name": "python",
   "nbconvert_exporter": "python",
   "pygments_lexer": "ipython3",
   "version": "3.7.3"
  }
 },
 "nbformat": 4,
 "nbformat_minor": 2
}
